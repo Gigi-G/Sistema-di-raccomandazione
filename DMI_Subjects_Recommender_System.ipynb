{
 "cells": [
  {
   "cell_type": "markdown",
   "metadata": {},
   "source": [
    "<div>\n",
    "    <div width=\"30%\" style=\"position: relative; float: left; top: -30px\">\n",
    "        <a href=\"https://github.com/Gigi-G/Sistema-di-raccomandazione\" target=\"_blank\">\n",
    "            <img src=\"https://github.com/Gigi-G/Sistema-di-raccomandazione/blob/gh-pages/img/Marchio.jpg\" width=\"80px\" height=\"80px\">\n",
    "        </a>\n",
    "    </div>\n",
    "    <div style=\"display: inline\">\n",
    "        <h1>DMI Subjects Recommender System (DSRS)</h1>\n",
    "    </div>\n",
    "</div>"
   ]
  },
  {
   "cell_type": "markdown",
   "metadata": {},
   "source": [
    "------\n",
    "\n",
    "## *Sommario*\n",
    "\n",
    "- **[Introduzione](#Introduzione)**\n",
    "- **[Content-Based Recommendations](#Content-Based-Recommendations)**\n",
    "- **[Informazioni sulle materie](#Informazioni-sulle-materie)**\n",
    "- **[Telegram Bot](#Telegram-Bot)**\n",
    "    - **[./modules/data](#./modules/data)**\n",
    "    - **[./modules/Logger](#./modules/Logger)**\n",
    "    - **[./modules/handlers](#./modules/handlers)**\n",
    "    - **[./modules/utils](#./modules/utils)**\n",
    "    - **[./modules/recommender_system](#./modules/recommender_system)**\n",
    "    - **[DMI_Subjects_Recommender_System.py](#DMI_Subjects_Recommender_System.py)**\n",
    "- **[Come si usa?](#Come-si-usa?)**\n",
    "- **[Docker](#Docker)**\n",
    "- **[Esempio](#Esempio)**\n",
    "\n",
    "------"
   ]
  },
  {
   "cell_type": "markdown",
   "metadata": {},
   "source": [
    "## Introduzione"
   ]
  },
  {
   "cell_type": "markdown",
   "metadata": {},
   "source": [
    "DMI Subjects Recommender System (DSRS) è un bot Telegram che permette di raccomandare agli studenti del corso di laurea in Informatica, presso l'università degli studi di Catania, quali sono le materia del terzo anno che potrebbero essere di loro interesse sfruttando il sistema di raccomandazione **Content Based**."
   ]
  },
  {
   "cell_type": "markdown",
   "metadata": {},
   "source": [
    "## Content-Based Recommendations"
   ]
  },
  {
   "cell_type": "markdown",
   "metadata": {},
   "source": [
    "Consiglia una materia $s_j$ allo studente $x_i$ simile alle materie precedenti valutate altamente da $x_i$."
   ]
  },
  {
   "cell_type": "markdown",
   "metadata": {},
   "source": [
    "La pipeline principale è la seguente:\n",
    "\n",
    "- Partiamo da uno studente a cui piacciono alcune materie. Ciò è necessario per creare una matrice di utilità.\n",
    "- Ad ogni materia viene assegnato un profilo, che ne specifica le proprietà principali.\n",
    "- A questo punto sappiamo quali sono le proprietà gradite dallo studente e possiamo costruire un profilo studente.\n",
    "- Il passo successivo è quello di \"abbinare\" il profilo dello studente con nuove materie che non ha valutato. Se queste materie condividono caratteristiche simili con il profilo studente, allora possiamo dedurre che lo studente potrebbe essere interessato a loro e quindi vengono raccomandate."
   ]
  },
  {
   "cell_type": "markdown",
   "metadata": {},
   "source": [
    "## Informazioni sulle materie"
   ]
  },
  {
   "cell_type": "markdown",
   "metadata": {},
   "source": [
    "Per implementare un sistema di raccomandazione Content Based, bisogna prima creare il profilo delle materie."
   ]
  },
  {
   "cell_type": "markdown",
   "metadata": {},
   "source": [
    "Per creare il profilo delle materie sono state utilizzate delle tecniche di web scraping. Tutta questa parte è contenuta nella cartella **./scraper**"
   ]
  },
  {
   "cell_type": "markdown",
   "metadata": {},
   "source": [
    "Analizziamo i file che sono presenti all'interno della cartella."
   ]
  },
  {
   "cell_type": "markdown",
   "metadata": {},
   "source": [
    "#### subjects.py"
   ]
  },
  {
   "cell_type": "markdown",
   "metadata": {},
   "source": [
    "La funzione **__check_error_input** controlla se ci sono errori in input da parte dell'utente, ovvero se l'utente ha dimenticato di inserire l'url su cui bisogna effettuare lo scraping."
   ]
  },
  {
   "cell_type": "code",
   "execution_count": null,
   "metadata": {},
   "outputs": [],
   "source": [
    "def __check_error_input(args:str) -> str:\n",
    "    if len(args) != 2:\n",
    "        __print_help()\n",
    "    i:int = 0\n",
    "    url:str = \"\"\n",
    "    while(i < len(args)):\n",
    "        if args[i] == \"-url\":\n",
    "            i += 1\n",
    "            url = args[i]\n",
    "        else:\n",
    "            __print_help()\n",
    "        i += 1\n",
    "    return url"
   ]
  },
  {
   "cell_type": "markdown",
   "metadata": {},
   "source": [
    "La funzione **__print_help** stampa un aiuto su come utilizzare lo scraper."
   ]
  },
  {
   "cell_type": "code",
   "execution_count": null,
   "metadata": {},
   "outputs": [],
   "source": [
    "def __print_help() -> None:\n",
    "    h:str = \"\\nUsage: python3 subjects.py -url <url>\\n\\n\"\n",
    "    h += \"-url:\\tIt is the site where we want to get the subjects\\n\"\n",
    "    print(h)\n",
    "    exit(-1)"
   ]
  },
  {
   "cell_type": "markdown",
   "metadata": {},
   "source": [
    "È presente anche il **main** che utilizza le funzioni descritte sopra e quelle presenti nelle classi **WebScraping** e **Extractor** per creare un file CSV chiamato **subjects.csv**."
   ]
  },
  {
   "cell_type": "code",
   "execution_count": null,
   "metadata": {},
   "outputs": [],
   "source": [
    "def main(args:str) -> None:\n",
    "    url:str = __check_error_input(args)\n",
    "    print(\"Extracting subjects...\")\n",
    "    Extractor(WebScraping(url).extract_subjects()).extract_data_frame().to_csv(\"./Dati/subjects.csv\", index = False)\n",
    "    print(\"DONE!\\n\")"
   ]
  },
  {
   "cell_type": "markdown",
   "metadata": {},
   "source": [
    "Il file **subjects.csv** contiene un *id* e una *descrizione* associati ad una materia, dove all'inizio di ogni descrizione è presente il nome della materia."
   ]
  },
  {
   "cell_type": "markdown",
   "metadata": {},
   "source": [
    "#### WebScraping.py"
   ]
  },
  {
   "cell_type": "markdown",
   "metadata": {},
   "source": [
    "In questo file è stata definita la classe **WebScraping** che permette di estrarre i nomi di tutte le materie del terzo anno e di scaricare i PDF di ogni materia."
   ]
  },
  {
   "cell_type": "markdown",
   "metadata": {},
   "source": [
    "Il costruttore della classe ha un solo parametro che è l'url sul quale sarà fatta una chiamata HTTP utilizzando *urllib.request.urlopen*. L'html ottenuto sarà analizzato utilizzando *BeautifulSoup*."
   ]
  },
  {
   "cell_type": "code",
   "execution_count": null,
   "metadata": {},
   "outputs": [],
   "source": [
    "def __init__(self, url:str):\n",
    "    self.url = url\n",
    "    u_client = uRequest(url)\n",
    "    self.page_html = u_client.read()\n",
    "    self.page_soup = soup(self.page_html, features=\"lxml\")"
   ]
  },
  {
   "cell_type": "markdown",
   "metadata": {},
   "source": [
    "Il metodo **__create_link** crea il link per poter scaricare il PDF che riguarda una determinata materia. L'unico parametro della funzione *link* deve essere il link che riporta al syllabus di una determinata materia."
   ]
  },
  {
   "cell_type": "code",
   "execution_count": null,
   "metadata": {},
   "outputs": [],
   "source": [
    "def __create_link(self, link) -> str:\n",
    "    result:str = \"\"\n",
    "    split:list = link.split(\"/\")\n",
    "    for k in split[0:-1]:\n",
    "        result += (k + \"/\")\n",
    "    return (\"http://syllabus.unict.it/insegnamento.php?id=\" + split[len(split)-1][5:] + \"&pdf\")"
   ]
  },
  {
   "cell_type": "markdown",
   "metadata": {},
   "source": [
    "Il metodo **extract_subjects** ritorna una lista contenente i link che riportano ai PDF delle varie materie a scelta."
   ]
  },
  {
   "cell_type": "code",
   "execution_count": null,
   "metadata": {},
   "outputs": [],
   "source": [
    "def extract_subjects(self) -> list:\n",
    "    excluded:list = ['ALGORITMI RANDOMIZZATI ED APPROSSIMATI', 'FISICA', 'METODI MATEMATICI E STATISTICI']\n",
    "    td = self.page_soup.findAll('td')\n",
    "    i:int = 0\n",
    "    while(\"3° anno\" not in td[i].text):\n",
    "        td.remove(td[i])\n",
    "    subjects:list = []\n",
    "    for elem in td:\n",
    "        result = elem.findAll('a')\n",
    "        subject:list = []\n",
    "        if len(result) > 0 and result[0].text not in excluded:\n",
    "            subject.append(result[0].text)\n",
    "            subject.append(self.__create_link(result[0][\"href\"]))\n",
    "            subjects.append(subject)\n",
    "    return subjects"
   ]
  },
  {
   "cell_type": "markdown",
   "metadata": {},
   "source": [
    "Il metodo **create_pdf** permette di creare in locale un file PDF a partire da una risposta ottenuta dopo una richiesta HTTP. Il parametro *name* serve a specificare il nome del file."
   ]
  },
  {
   "cell_type": "code",
   "execution_count": null,
   "metadata": {},
   "outputs": [],
   "source": [
    "def create_pdf(self, name) -> None:\n",
    "    open(name + \".pdf\", 'wb').write(self.page_html)"
   ]
  },
  {
   "cell_type": "markdown",
   "metadata": {},
   "source": [
    "#### Extractor.py"
   ]
  },
  {
   "cell_type": "markdown",
   "metadata": {},
   "source": [
    "In questo file è stata definita la classe **Extractor** che permette di estrarre le descrizioni di ogni materia a partire da un file PDF e di creare un dataframe con la struttura del file CSV. La lettura del PDF è facilitata dall'uso di *FormatPDF*."
   ]
  },
  {
   "cell_type": "markdown",
   "metadata": {},
   "source": [
    "Il costruttore della classe prende in ingresso una lista che contiene i link ai PDF delle varie materie. "
   ]
  },
  {
   "cell_type": "code",
   "execution_count": null,
   "metadata": {},
   "outputs": [],
   "source": [
    "def __init__(self, subjects:list):\n",
    "    self.subjects = subjects"
   ]
  },
  {
   "cell_type": "markdown",
   "metadata": {},
   "source": [
    "Il metodo **__extract_subject_description** permette di estrarre la descrizione di una materia presente all'interno di un PDF. La funzione prende in ingresso una lista di frasi, che sono le righe di un PDF e ritorna una stringa. "
   ]
  },
  {
   "cell_type": "code",
   "execution_count": null,
   "metadata": {},
   "outputs": [],
   "source": [
    "def __extract_subject_description(self, text: list) -> str:\n",
    "    i:int = 0\n",
    "    while(text[i].upper() != \"CONTENUTI DEL CORSO\"):\n",
    "        i += 1\n",
    "    i += 1\n",
    "    description:str = \"\"\n",
    "    while(text[i].upper() != \"TESTI DI RIFERIMENTO\"):\n",
    "        description += text[i] + \" \"\n",
    "        i += 1\n",
    "    while(text[i].upper() != \"PROGRAMMAZIONE DEL CORSO\"):\n",
    "        i += 1\n",
    "    i += 3\n",
    "    while(text[i].upper() != \"VERIFICA DELL'APPRENDIMENTO\"):\n",
    "        if text[i] != None:\n",
    "            description += text[i][3:].strip() + \" \"\n",
    "        i += 1\n",
    "    return description"
   ]
  },
  {
   "cell_type": "markdown",
   "metadata": {},
   "source": [
    "Il metodo **extract_data_frame** ritorna un dataframe, che ha come colonne:\n",
    "\n",
    "- *id*: che identifica una determinata materia;\n",
    "- *description*: che contiene la descrizione di una specifica materia. All'inizio di ogni descrizione è presente il nome della materia."
   ]
  },
  {
   "cell_type": "code",
   "execution_count": null,
   "metadata": {},
   "outputs": [],
   "source": [
    "def extract_data_frame(self) -> any:\n",
    "    ids:list = []\n",
    "    descriptions:list = []\n",
    "    i:int = 0\n",
    "    print(\"Please Wait... It will take some time\\n\")\n",
    "    for subject in self.subjects:\n",
    "        print(subject[0] + \"\\n\")\n",
    "        web_page:WebScraping = WebScraping(subject[1])\n",
    "        web_page.create_pdf(subject[0])\n",
    "        descrip.tion:str = self.__extract_subject_description(FormatPDF.format_pdf(subject[0] + \".pdf\"))\n",
    "        descriptions.append(\n",
    "            subject[0] + \n",
    "            \" - \" + \n",
    "            description\n",
    "        )\n",
    "        ids.append(i)\n",
    "        i += 1\n",
    "        os.remove(subject[0] + \".pdf\")\n",
    "    return pd.DataFrame({'id': ids, 'description': descriptions})"
   ]
  },
  {
   "cell_type": "markdown",
   "metadata": {},
   "source": [
    "#### FormatPDF"
   ]
  },
  {
   "cell_type": "markdown",
   "metadata": {},
   "source": [
    "In questo file è stata definita la classe **FormatPDF** che ha un solo metodo statico."
   ]
  },
  {
   "cell_type": "markdown",
   "metadata": {},
   "source": [
    "Il metodo **format_pdf** prende in ingresso il path di un file PDF e ritorna una lista che contiene le frasi presenti all'interno del PDF eliminando gli spazi che ci sono all'inizio e alla fine di una riga."
   ]
  },
  {
   "cell_type": "code",
   "execution_count": null,
   "metadata": {},
   "outputs": [],
   "source": [
    "@staticmethod\n",
    "def format_pdf(pathname: str) -> None:\n",
    "    with open(pathname, \"rb\") as f:\n",
    "        pdf = pdftotext.PDF(f)\n",
    "        f.close()\n",
    "    formatted_lines = []\n",
    "    text = \"\"\n",
    "    for line in pdf:\n",
    "        text += line\n",
    "    split_text = text.split(\"\\n\")\n",
    "    for line in split_text:\n",
    "        formatted_lines.append(line.strip())\n",
    "    return formatted_lines"
   ]
  },
  {
   "cell_type": "markdown",
   "metadata": {},
   "source": [
    "Utilizziamo il seguente comando:"
   ]
  },
  {
   "cell_type": "markdown",
   "metadata": {},
   "source": [
    "```bash\n",
    "python3 scraper/subjects.py -url http://web.dmi.unict.it/corsi/l-31/programmi?aa=121\n",
    "```"
   ]
  },
  {
   "cell_type": "markdown",
   "metadata": {},
   "source": [
    "Quello che si ottiene è il seguente output:\n",
    "```bash\n",
    "Extracting subjects...\n",
    "\n",
    "Please Wait... It will take some time\n",
    "\n",
    "CALCOLO NUMERICO\n",
    "\n",
    "COMPUTER GRAFICA\n",
    "\n",
    "DIGITAL FORENSICS\n",
    "\n",
    "INFORMATICA MUSICALE\n",
    "\n",
    "INTERNET SECURITY\n",
    "\n",
    "INTRODUZIONE AL DATA MINING\n",
    "\n",
    "IT LAW\n",
    "\n",
    "LABORATORIO DI SISTEMI A MICROCONTROLLORE\n",
    "\n",
    "PROGRAMMAZIONE MOBILE\n",
    "\n",
    "PROGRAMMAZIONE PARALLELA SU ARCHITETTURE GPU\n",
    "\n",
    "SISTEMI CENTRALI\n",
    "\n",
    "SOCIAL MEDIA MANAGEMENT\n",
    "\n",
    "STARTUP DI IMPRESA E MODELLI DI BUSINESS\n",
    "\n",
    "SVILUPPO DI GIOCHI DIGITALI\n",
    "\n",
    "TECHNOLOGIES FOR ADVANCED PROGRAMMING\n",
    "\n",
    "TECNOLOGIE PER I SISTEMI DISTRIBUITI E IL WEB CON LABORATORIO\n",
    "\n",
    "WEB PROGRAMMING, DESIGN & USABILITY\n",
    "\n",
    "DONE!\n",
    "```"
   ]
  },
  {
   "cell_type": "markdown",
   "metadata": {},
   "source": [
    "Il file **./Dati/subjects.csv** sarà utilizzato per estrarre le caratteristiche di ogni materia,  utilizzando TF-IDF, dalle quali è possibili costruire i *feature vectors*, ovvero i profili delle materie. "
   ]
  },
  {
   "cell_type": "markdown",
   "metadata": {},
   "source": [
    "## Telegram Bot"
   ]
  },
  {
   "cell_type": "markdown",
   "metadata": {},
   "source": [
    "Dopo aver estratto le informazioni riguardanti le varie materie, è stato realizzato un bot Telegram che, in base a delle valutazioni date da uno studente, riesce a raccomandare delle materie.  "
   ]
  },
  {
   "cell_type": "markdown",
   "metadata": {},
   "source": [
    "Il \"core\" di tutto il bot è presente all'interno della cartella **./modules**"
   ]
  },
  {
   "cell_type": "markdown",
   "metadata": {},
   "source": [
    "Analizziamo il contenuto della cartella."
   ]
  },
  {
   "cell_type": "markdown",
   "metadata": {},
   "source": [
    "### ./modules/data"
   ]
  },
  {
   "cell_type": "markdown",
   "metadata": {},
   "source": [
    "Questa cartella contiene il file **data_reader.py**"
   ]
  },
  {
   "cell_type": "markdown",
   "metadata": {},
   "source": [
    "#### data_reader.py"
   ]
  },
  {
   "cell_type": "markdown",
   "metadata": {},
   "source": [
    "Permette di ottenere il token presente all'interno del file **./config/settings.yaml**"
   ]
  },
  {
   "cell_type": "markdown",
   "metadata": {},
   "source": [
    "### ./modules/Logger"
   ]
  },
  {
   "cell_type": "markdown",
   "metadata": {},
   "source": [
    "Questa cartella contiene il file **logger.py**"
   ]
  },
  {
   "cell_type": "markdown",
   "metadata": {},
   "source": [
    "#### logger.py"
   ]
  },
  {
   "cell_type": "markdown",
   "metadata": {},
   "source": [
    "In questo file è stata definita la classe **Logger** che è un *Singleton* e serve per ottenere log."
   ]
  },
  {
   "cell_type": "markdown",
   "metadata": {},
   "source": [
    "### ./modules/handlers"
   ]
  },
  {
   "cell_type": "markdown",
   "metadata": {},
   "source": [
    "Questa cartella contiene i seguenti file:\n",
    "\n",
    "- *command_handler.py*\n",
    "- *callback_handlers.py*\n",
    "\n",
    "Tutte le funzioni tornano `0` o `1` che indicano lo stato della conversazione e che permettono di capire al bot quale funzione deve richiamare in base al bottone cliccato dall'utente."
   ]
  },
  {
   "cell_type": "markdown",
   "metadata": {},
   "source": [
    "#### command_handler.py"
   ]
  },
  {
   "cell_type": "markdown",
   "metadata": {},
   "source": [
    "In questo file sono presenti le funzioni che vengono richiamate in base ad uno specifico comando che viene inviato al bot. Nel file è presente solo la funzione **start** dato che l'unico comando del bot è `/start`"
   ]
  },
  {
   "cell_type": "markdown",
   "metadata": {},
   "source": [
    "La funzione **start** inizializza alcuni parametri importanti, che sono:\n",
    "\n",
    "- `context.user_data[\"index_list_subject_length\"]`: serve per stabilire il numero di bottoni da visualizzare. \n",
    "- `context.user_data[\"ratings\"]`: contiene le valutazioni che sono state date da uno studente.\n",
    "- `context.user_data[\"subject_names\"]`: contiene i nomi di tutte le materie.\n",
    "\n",
    "Queste variabili sono univoche per ogni studente."
   ]
  },
  {
   "cell_type": "code",
   "execution_count": null,
   "metadata": {},
   "outputs": [],
   "source": [
    "def start(update: Update, context: CallbackContext) -> int:\n",
    "    user = update.message.from_user\n",
    "    context.user_data[\"username\"] = user.username\n",
    "    Logger.getInstance().info(\"L'utente \" + user.username + \" ha iniziato la conversazione.\")\n",
    "    keyboard = [\n",
    "        [\n",
    "            InlineKeyboardButton(\"LINK\", url=\"http://web.dmi.unict.it/corsi/l-31/programmi\"),\n",
    "            InlineKeyboardButton(\"Iniziamo!\", callback_data=str(0))\n",
    "        ]\n",
    "    ]\n",
    "    reply_markup = InlineKeyboardMarkup(keyboard)\n",
    "    context.user_data[\"index_list_subject_length\"] = 4\n",
    "    context.user_data[\"ratings\"] = []\n",
    "    context.user_data[\"subject_names\"] = []\n",
    "    Subjects.getInstance().init_array(context.user_data[\"ratings\"], context.user_data[\"subject_names\"])\n",
    "    update.message.reply_text(\n",
    "        text=\"Prima di iniziare è necessario che tu legga i programmi delle varie materie del 3° anno.\\n\" +\n",
    "        \"Questo è un passo fondamentale perché dopo ti verrà chiesto di valutarne alcuni!\\n\" +\n",
    "        \"Puoi cliccare nel bottone sottostante per raggiungere la pagina dei programmi.\\n\" +\n",
    "        \"Dopo aver letto tutto attentamente clicca su \\\"Iniziamo!\\\"\",\n",
    "        reply_markup=reply_markup\n",
    "    )\n",
    "    return 0"
   ]
  },
  {
   "cell_type": "markdown",
   "metadata": {},
   "source": [
    "#### callback_handlers.py"
   ]
  },
  {
   "cell_type": "markdown",
   "metadata": {},
   "source": [
    "In questo file sono definite le funzioni che vengono richiamate quando si clicca su un bottone."
   ]
  },
  {
   "cell_type": "markdown",
   "metadata": {},
   "source": [
    "La funzione **shift_menu_left** permette di scorrere la lista delle materie verso sinistra."
   ]
  },
  {
   "cell_type": "code",
   "execution_count": null,
   "metadata": {},
   "outputs": [],
   "source": [
    "def shift_menu_left(update: Update, context: CallbackContext) -> int:\n",
    "    query = update.callback_query\n",
    "    query.answer()\n",
    "    reply_markup = InlineKeyboardMarkup(create_keyboard(context, -1, Subjects.getInstance().get_subjects()))\n",
    "    query.edit_message_text(text=query.message.text, reply_markup=reply_markup)\n",
    "    return 0"
   ]
  },
  {
   "cell_type": "markdown",
   "metadata": {},
   "source": [
    "La funzione **shift_menu_right** permette di scorrere la lista delle materie verso destra."
   ]
  },
  {
   "cell_type": "code",
   "execution_count": null,
   "metadata": {},
   "outputs": [],
   "source": [
    "def shift_menu_right(update: Update, context: CallbackContext) -> int:\n",
    "    query = update.callback_query\n",
    "    query.answer()\n",
    "    reply_markup = InlineKeyboardMarkup(create_keyboard(context, 1, Subjects.getInstance().get_subjects()))\n",
    "    query.edit_message_text(text=query.message.text, reply_markup=reply_markup)\n",
    "    return 0"
   ]
  },
  {
   "cell_type": "markdown",
   "metadata": {},
   "source": [
    "La funzione **rate_best_subject** serve per ottenere la materia preferita di uno studente e stabilire quanti altri voti dovrà dare l'utente. L'utente darà da un minimo di 2 a un massimo di 4 voti."
   ]
  },
  {
   "cell_type": "code",
   "execution_count": null,
   "metadata": {},
   "outputs": [],
   "source": [
    "def rate_best_subject(update: Update, context: CallbackContext) -> int:\n",
    "        context.user_data[\"rate_number\"] = random.randint(0, 2)\n",
    "        context.user_data[\"rate\"] = 5\n",
    "        query = update.callback_query\n",
    "        query.answer()\n",
    "        context.user_data[\"index_list_subject\"] = -context.user_data[\"index_list_subject_length\"]\n",
    "        reply_markup = InlineKeyboardMarkup(create_keyboard(context, 1, Subjects.getInstance().get_subjects()))\n",
    "        query.edit_message_text(\n",
    "            text=\"In base ai programmi letti, qual è la materia che ha stimolato maggiormente la tua curiosità?\", \n",
    "            reply_markup=reply_markup\n",
    "        )\n",
    "        return 0"
   ]
  },
  {
   "cell_type": "markdown",
   "metadata": {},
   "source": [
    "La funzione **rate_subject** serve per dare un voto compreso tra 1 e 5 ad una specifica materia indicata dallo studente e controlla se è stato raggiunto il massimo numero di voti che lo studente deve fornire."
   ]
  },
  {
   "cell_type": "code",
   "execution_count": null,
   "metadata": {},
   "outputs": [],
   "source": [
    "def rate_subject(query, context: CallbackContext) -> int:\n",
    "    context.user_data[\"rate\"] = random.choices(range(5), weights=[0.24, 0.34, 0.22, 0.10, 0.10], k = 1)[0] + 1\n",
    "    context.user_data[\"index_list_subject\"] = -context.user_data[\"index_list_subject_length\"]\n",
    "    reply_markup = InlineKeyboardMarkup(create_keyboard(context, 1, Subjects.getInstance().get_subjects()))\n",
    "    query.edit_message_text(\n",
    "        text=\"A quale materia daresti un voto pari a \" + str(context.user_data[\"rate\"]) + \" in base al programma?\", \n",
    "        reply_markup=reply_markup\n",
    "    )\n",
    "    if(np.count_nonzero(np.array(context.user_data[\"ratings\"])) > context.user_data[\"rate_number\"]):\n",
    "        return 1\n",
    "    return 0"
   ]
  },
  {
   "cell_type": "markdown",
   "metadata": {},
   "source": [
    "La funzione **update_rating** aggiorna la valutazione di uno studente rispetto ad una specifica materia, quindi modifica `context.user_data[\"ratings\"]`, nei log sarà riportata questa informazione."
   ]
  },
  {
   "cell_type": "code",
   "execution_count": null,
   "metadata": {},
   "outputs": [],
   "source": [
    "def update_rating(index: str, context: CallbackContext) -> None:\n",
    "    context.user_data[\"ratings\"][int(index)] = context.user_data[\"rate\"]\n",
    "    Logger.getInstance().info(\"L'utente \" + context.user_data[\"username\"] + \" ha dato un voto pari a \" + str(context.user_data[\"rate\"]) + \n",
    "    \" a \" + Subjects.getInstance().get_subjects()[index] + \".\")"
   ]
  },
  {
   "cell_type": "markdown",
   "metadata": {},
   "source": [
    "La funzione **update_info** richiama la funzione *update_rating* ed elemina dalla lista delle materie quella che è già stata valutata dallo studente, infine richiama la funzione *rate_subject*."
   ]
  },
  {
   "cell_type": "code",
   "execution_count": null,
   "metadata": {},
   "outputs": [],
   "source": [
    "def update_info(update: Update, context: CallbackContext) -> int:\n",
    "    query = update.callback_query\n",
    "    query.answer()\n",
    "    index = update.callback_query.data.split(\" - \")[0]\n",
    "    update_rating(index, context)\n",
    "    Subjects.getInstance().delete_subject_name(index, context)\n",
    "    return rate_subject(query, context)"
   ]
  },
  {
   "cell_type": "markdown",
   "metadata": {},
   "source": [
    "La funzione **end** conclude la conversazione con lo studente inviando un messaggio con le 5 materie consigliate in base ai voti da lui dati."
   ]
  },
  {
   "cell_type": "code",
   "execution_count": null,
   "metadata": {},
   "outputs": [],
   "source": [
    "def end(update: Update, context: CallbackContext) -> int:\n",
    "    query = update.callback_query\n",
    "    query.answer()\n",
    "    index = update.callback_query.data.split(\" - \")[0]\n",
    "    update_rating(index, context)\n",
    "    Subjects.getInstance().delete_subject_name(index, context)\n",
    "    query.edit_message_text(text=\"Utilizzo i dati da te forniti per capire quali materie potrebbero essere interessanti per te!\")\n",
    "    recommender_subjects = recommender_system(context)\n",
    "    message:str = \"Le 5 materie che ti consiglio sono:\\n\\n\"\n",
    "    for index in recommender_subjects:\n",
    "        message += \"· \" + Subjects.getInstance().get_subjects()[str(index)] + \"\\n\\n\"\n",
    "    query.edit_message_text(text=\n",
    "        message +\n",
    "        \"Ricorda che io sono solo un bot che cerca di migliorare le proprie capacità in base all'esperienza!\\n\" +\n",
    "        \"Per ricominciare usa il comando /start\"\n",
    "    )\n",
    "    Logger.getInstance().info(\"Conversazione conclusa con l'utente \" + context.user_data[\"username\"])\n",
    "    return ConversationHandler.END"
   ]
  },
  {
   "cell_type": "markdown",
   "metadata": {},
   "source": [
    "La funzione **start_over** ricomincia la conversazione con uno studente, azzerando la discussione precedente."
   ]
  },
  {
   "cell_type": "code",
   "execution_count": null,
   "metadata": {},
   "outputs": [],
   "source": [
    "def start_over(update: Update, context: CallbackContext) -> int:\n",
    "    query = update.callback_query\n",
    "    query.answer()\n",
    "    Logger.getInstance().info(\"L'utente \" + context.user_data[\"username\"] + \" ha ricominciato la conversazione.\")\n",
    "    keyboard = [\n",
    "        [\n",
    "            InlineKeyboardButton(\"LINK\", url=\"http://web.dmi.unict.it/corsi/l-31/programmi\"),\n",
    "            InlineKeyboardButton(\"Iniziamo!\", callback_data=str(0))\n",
    "        ]\n",
    "    ]\n",
    "    reply_markup = InlineKeyboardMarkup(keyboard)\n",
    "    context.user_data[\"index_list_subject_length\"] = 4\n",
    "    context.user_data[\"ratings\"] = []\n",
    "    context.user_data[\"subject_names\"] = []\n",
    "    Subjects.getInstance().init_array(context.user_data[\"ratings\"], context.user_data[\"subject_names\"])\n",
    "    query.edit_message_text(\n",
    "        text=\"Prima di iniziare è necessario che tu legga i programmi delle varie materie del 3° anno.\\n\" +\n",
    "        \"Questo è un passo fondamentale perché dopo ti verrà chiesto di valutarne alcuni!\\n\" +\n",
    "        \"Puoi cliccare nel bottone sottostante per raggiungere la pagina dei programmi.\\n\" +\n",
    "        \"Dopo aver letto tutto attentamente clicca su \\\"Iniziamo!\\\"\",\n",
    "        reply_markup=reply_markup\n",
    "    )\n",
    "    return 0"
   ]
  },
  {
   "cell_type": "markdown",
   "metadata": {},
   "source": [
    "### ./modules/utils"
   ]
  },
  {
   "cell_type": "markdown",
   "metadata": {},
   "source": [
    "Questa cartella contiene i seguenti file:\n",
    "\n",
    "- *keyboard.py*\n",
    "- *subject_ratings.py*"
   ]
  },
  {
   "cell_type": "markdown",
   "metadata": {},
   "source": [
    "#### keyboard.py"
   ]
  },
  {
   "cell_type": "markdown",
   "metadata": {},
   "source": [
    "Questo file contiene un'unica funzione, chiamata **create_keyboard** che serve per creare l'insieme dei bottoni che l'utente deve cliccare in un determinato stato."
   ]
  },
  {
   "cell_type": "code",
   "execution_count": null,
   "metadata": {},
   "outputs": [],
   "source": [
    "def create_keyboard(context: CallbackContext, direction: int, subjects: dict) -> list:\n",
    "    keyboard_subject: list = []\n",
    "    list_length = context.user_data[\"index_list_subject_length\"]\n",
    "    context.user_data[\"index_list_subject\"] += (list_length * direction)\n",
    "    if(context.user_data[\"index_list_subject\"] >= len(context.user_data[\"subject_names\"]) or context.user_data[\"index_list_subject\"] <= -4):\n",
    "        context.user_data[\"index_list_subject\"] -= (list_length * direction)\n",
    "    start_index = context.user_data[\"index_list_subject\"]\n",
    "    end_index = start_index + list_length\n",
    "\n",
    "    for key in context.user_data[\"subject_names\"][start_index:end_index]:\n",
    "        keyboard_subject.append([InlineKeyboardButton(subjects[key], callback_data=key + \" - delete\")])\n",
    "    \n",
    "    button: list = []\n",
    "    if start_index > 0:\n",
    "        button.append(InlineKeyboardButton(\"⏪\", callback_data=\"LEFT\"))\n",
    "    if end_index < len(context.user_data[\"subject_names\"]):\n",
    "        button.append(InlineKeyboardButton(\"⏩\", callback_data=\"RIGHT\"))\n",
    "    keyboard_subject.append(button)\n",
    "    keyboard_subject.append([InlineKeyboardButton(\"🔁 RESTART 🔁\", callback_data=\"restart\")])\n",
    "    return keyboard_subject"
   ]
  },
  {
   "cell_type": "markdown",
   "metadata": {},
   "source": [
    "#### subject_ratings.py"
   ]
  },
  {
   "cell_type": "markdown",
   "metadata": {},
   "source": [
    "In questo file è definita la classe **Subjects** che è un *Singleton*, questo perché la classe contiene:\n",
    "\n",
    "- un **dizionario**, dove sono presenti tutte le materie indicizzate attraverso il loro *id*, e di questo ne deve esistere solo uno.\n",
    "- un **dataframe**, dove sono presenti i voti che degli studenti hanno dato alle materie attraverso un google form, e di questo ne deve esistere solo uno. "
   ]
  },
  {
   "cell_type": "markdown",
   "metadata": {},
   "source": [
    "La funzione **get_subjects** ritorna il dizionario."
   ]
  },
  {
   "cell_type": "code",
   "execution_count": null,
   "metadata": {},
   "outputs": [],
   "source": [
    "def get_subjects(self) -> dict:\n",
    "    return self.__subjects"
   ]
  },
  {
   "cell_type": "markdown",
   "metadata": {},
   "source": [
    "La funzione **get_data** ritorna il dataframe."
   ]
  },
  {
   "cell_type": "code",
   "execution_count": null,
   "metadata": {},
   "outputs": [],
   "source": [
    "def get_data(self):\n",
    "    return self.__data"
   ]
  },
  {
   "cell_type": "markdown",
   "metadata": {},
   "source": [
    "La funzione **load_subjects** utilizza i dati nel file *./Dati/Dati.csv*, che sono quelli raccolti attraverso il google form, per creare il dataframe e utilizza il file *./Dati/subjects.csv* per creare il dizionario."
   ]
  },
  {
   "cell_type": "code",
   "execution_count": null,
   "metadata": {},
   "outputs": [],
   "source": [
    "def load_subjects(self) -> None:\n",
    "    self.__data = pd.read_csv(\"./Dati/Dati.csv\")\n",
    "    self.__data = self.__data.pivot_table(index='user_id', columns='subject_id', values='rating')\n",
    "    self.__subjects = {}\n",
    "    with open(\"./Dati/subjects.csv\", 'r') as subject:\n",
    "        for s in subject:\n",
    "            split:str = s.split(',')\n",
    "            if(split[0] != \"id\"):\n",
    "                name:str = split[1].split(\" - \")[0]\n",
    "                if name[0] == \"\\\"\":\n",
    "                    name = name[1:]\n",
    "                self.__subjects[split[0]] = name"
   ]
  },
  {
   "cell_type": "markdown",
   "metadata": {},
   "source": [
    "La funzione **init_array** inizializza:\n",
    "\n",
    "- `context.user_data[\"ratings\"]`;\n",
    "- `context.user_data[\"subject_names\"]`.\n",
    "\n",
    "Che vengono passati come parametri alla funzione."
   ]
  },
  {
   "cell_type": "code",
   "execution_count": null,
   "metadata": {},
   "outputs": [],
   "source": [
    "def init_array(self, ratings: list, subject_names: list) -> None:\n",
    "    for key in self.__subjects:\n",
    "        subject_names.append(key)\n",
    "        ratings.append(0)"
   ]
  },
  {
   "cell_type": "markdown",
   "metadata": {},
   "source": [
    "La funzione **delete_subjects_name** elimina da `context.user_data[\"subject_names\"]` il nome della materia per cui lo studente ha già dato un voto."
   ]
  },
  {
   "cell_type": "code",
   "execution_count": null,
   "metadata": {},
   "outputs": [],
   "source": [
    "def delete_subject_name(self, index: str, context: CallbackContext) -> None:\n",
    "    context.user_data[\"subject_names\"].remove(index)"
   ]
  },
  {
   "cell_type": "markdown",
   "metadata": {},
   "source": [
    "### ./modules/recommender_system"
   ]
  },
  {
   "cell_type": "markdown",
   "metadata": {},
   "source": [
    "Questa cartella contiene i seguenti file:\n",
    "\n",
    "- *ContentBased.py*\n",
    "- *performance_assessment.py*\n",
    "- *recommender_system.py*"
   ]
  },
  {
   "cell_type": "markdown",
   "metadata": {},
   "source": [
    "#### ContentBased.py"
   ]
  },
  {
   "cell_type": "markdown",
   "metadata": {},
   "source": [
    "In questo file è definita la classe **ContentBased** che contiene i metodi che permettono di predire quali sono i possibili voti che uno studente potrebbe dare alle materie per cui non ha espresso un voto."
   ]
  },
  {
   "cell_type": "markdown",
   "metadata": {},
   "source": [
    "Il costruttore della classe ha i seguenti parametri:\n",
    "\n",
    "- `subjects_filename`: che deve essere un file CSV con due colonne *id* e *description*, come quello presente in *./Dati/subjects.csv*.\n",
    "- `data_filename`: che deve essere un file CSV con quattro colonne: *user_id*, *subject_id*, *subject_name*, *rating*. Un file di esempio è quello presente in *./Dati/Dati.csv*.\n",
    "- `data`: il dataframe dove sono presenti i voti che degli studenti hanno dato alle materie attraverso un google form.\n",
    "- `threshold`: un valore di soglia che serve per capire se una caratteristica è presente oppure no in una materia. Il valore di default è 0,22.\n",
    "\n",
    "`data_filename` e `data` sono opzionali, ma almeno uno di loro deve essere presente."
   ]
  },
  {
   "cell_type": "code",
   "execution_count": null,
   "metadata": {},
   "outputs": [],
   "source": [
    "def __init__(self, subjects_filename, data_filename = None, data = None, threshold = 0.22) -> None:\n",
    "    self.threshold = threshold\n",
    "    self.__build_tfidf_matrix(subjects_filename)\n",
    "    if(data_filename is not None):\n",
    "        self.__build_utility_matrix(data_filename)\n",
    "    elif(data is not None):\n",
    "        self.data = data\n",
    "        self.utility_matrix = data\n",
    "    else:\n",
    "        print(\"Error in data initialization!\")\n",
    "        exit(-1)\n",
    "    self.__build_normalized_utility_matrix()\n",
    "    self.__build_user_profiles()"
   ]
  },
  {
   "cell_type": "markdown",
   "metadata": {},
   "source": [
    "Il metodo **__build_tfidf_matrix** prende in ingresso il nome di un file, come *./Dati/subjects.csv*, e calcola TF-IDF per la descrizione di ogni materia e utilizzando il threshold si stabilisce se una caratteristica è presente (1) oppure non è presente (0). Quindi si ottiene una matrice binaria, dove ogni riga è il profilo di una materia."
   ]
  },
  {
   "cell_type": "code",
   "execution_count": null,
   "metadata": {},
   "outputs": [],
   "source": [
    "def __build_tfidf_matrix(self, subjects_filename) -> None:\n",
    "    ds = pd.read_csv(subjects_filename)\n",
    "    tf = TfidfVectorizer(stop_words = get_stop_words(\"italian\"))\n",
    "    self.tfidf_matrix = tf.fit_transform([(k.split(\" - \")[1]) for k in ds['description']])\n",
    "    self.tfidf_matrix = np.where(np.array(self.tfidf_matrix.todense()) > self.threshold, 1, 0)"
   ]
  },
  {
   "cell_type": "markdown",
   "metadata": {},
   "source": [
    "Il metodo **__build_utility_matrix** prende in ingresso il nome di un file, come *./Dati/Dati.csv*, e costruisce la matrice di utilità. "
   ]
  },
  {
   "cell_type": "code",
   "execution_count": null,
   "metadata": {},
   "outputs": [],
   "source": [
    "def __build_utility_matrix(self, data_filename) -> None:\n",
    "    self.data = pd.read_csv(data_filename)\n",
    "    self.utility_matrix = self.data.pivot_table(index='user_id', columns='subject_id', values='rating')"
   ]
  },
  {
   "cell_type": "markdown",
   "metadata": {},
   "source": [
    "Il metodo **__build_normalized_utility_matrix** normalizza la matrice di utilità."
   ]
  },
  {
   "cell_type": "code",
   "execution_count": null,
   "metadata": {},
   "outputs": [],
   "source": [
    "def __build_normalized_utility_matrix(self) -> None:\n",
    "    self.n_utility_matrix = self.utility_matrix.sub(self.utility_matrix.mean(1), axis = 'index').fillna(0).to_numpy()"
   ]
  },
  {
   "cell_type": "markdown",
   "metadata": {},
   "source": [
    "Il metodo **__build_user_profiles** costruisce i profili degli studenti."
   ]
  },
  {
   "cell_type": "code",
   "execution_count": null,
   "metadata": {},
   "outputs": [],
   "source": [
    "def __build_user_profiles(self) -> None:\n",
    "    self.profiles = []\n",
    "    for user in self.n_utility_matrix:\n",
    "        profile = []\n",
    "        for item in self.tfidf_matrix.transpose():\n",
    "            profile.append((np.sum(user * item) + 1)/(np.count_nonzero(user) + 1))\n",
    "        self.profiles.append(profile)\n",
    "    return np.array(self.profiles)"
   ]
  },
  {
   "cell_type": "markdown",
   "metadata": {},
   "source": [
    "Il metodo **__scale** permette di mappare dei valori in un determinato range, la funzione prende in ingresso X (scalare, vettore o matrice), il minimo del nuovo range e il massimo del nuovo range."
   ]
  },
  {
   "cell_type": "code",
   "execution_count": null,
   "metadata": {},
   "outputs": [],
   "source": [
    "def __scale(self, X, x_min, x_max):\n",
    "    nom = (X + 1) * (x_max - x_min)\n",
    "    denom = 2\n",
    "    return x_min + nom / denom"
   ]
  },
  {
   "cell_type": "markdown",
   "metadata": {},
   "source": [
    "Il metodo **__cosine_distance** permette di calcolare la distanza del coseno tra due vettori."
   ]
  },
  {
   "cell_type": "code",
   "execution_count": null,
   "metadata": {},
   "outputs": [],
   "source": [
    "def __cosine_distance(self, x, y) -> float:\n",
    "    return (np.dot(x, y) + 1) / ((np.sqrt(np.dot(x, x)) + 1) * np.sqrt(np.dot(y, y) + 1))"
   ]
  },
  {
   "cell_type": "markdown",
   "metadata": {},
   "source": [
    "Il metodo **print_utility_matrix** stampa a video la matrice di utilità."
   ]
  },
  {
   "cell_type": "code",
   "execution_count": null,
   "metadata": {},
   "outputs": [],
   "source": [
    "def print_utility_matrix(self):\n",
    "    print(self.utility_matrix)"
   ]
  },
  {
   "cell_type": "markdown",
   "metadata": {},
   "source": [
    "Il metodo **predict** predice il voto che uno studente $x_i$ darebbe ad una materia $s_j$ e ritorna questo valore."
   ]
  },
  {
   "cell_type": "code",
   "execution_count": null,
   "metadata": {},
   "outputs": [],
   "source": [
    "def predict(self, xi, sj) -> float:\n",
    "    return self.__scale(self.__cosine_distance(self.profiles[xi], self.tfidf_matrix[sj]), 0, 5)"
   ]
  },
  {
   "cell_type": "markdown",
   "metadata": {},
   "source": [
    "#### performance_assessment.py"
   ]
  },
  {
   "cell_type": "markdown",
   "metadata": {},
   "source": [
    "Questo file contiene delle funzioni che hanno permesso di trovare il valore ottimale del threshold."
   ]
  },
  {
   "cell_type": "markdown",
   "metadata": {},
   "source": [
    "#### recommender_system.py"
   ]
  },
  {
   "cell_type": "markdown",
   "metadata": {},
   "source": [
    "Questo file contiene le funzioni che permettono di predire il voto che uno studente $x_i$ darebbe ad una materia $s_j$ utilizzando il bot Telegram."
   ]
  },
  {
   "cell_type": "markdown",
   "metadata": {},
   "source": [
    "La funzione **predict** calcolo il voto che uno studente darebbe a tutte quelle materie per cui non ha espresso un voto."
   ]
  },
  {
   "cell_type": "code",
   "execution_count": null,
   "metadata": {},
   "outputs": [],
   "source": [
    "def predict(cb: ContentBased, context: CallbackContext) -> None:\n",
    "    i:int = 0\n",
    "    while(i < len(context.user_data[\"ratings\"])):\n",
    "        if(context.user_data[\"ratings\"][i] == 0):\n",
    "            context.user_data[\"ratings\"][i] = cb.predict(14, i)\n",
    "        i += 1"
   ]
  },
  {
   "cell_type": "markdown",
   "metadata": {},
   "source": [
    "La funzione **create_new_row** crea una nuova riga da inserire nel dataframe che contiene i voti di uno determinato studente."
   ]
  },
  {
   "cell_type": "code",
   "execution_count": null,
   "metadata": {},
   "outputs": [],
   "source": [
    "def create_new_row(context: CallbackContext) -> list:\n",
    "    row = np.array(context.user_data[\"ratings\"])\n",
    "    row = row.astype('float')\n",
    "    row[row == 0] = np.NaN\n",
    "    return row.tolist()"
   ]
  },
  {
   "cell_type": "markdown",
   "metadata": {},
   "source": [
    "La funzione **save_user_ratings** salva i voti che sono stati dati da uno studente nel file *./users/<username\\>.csv*"
   ]
  },
  {
   "cell_type": "code",
   "execution_count": null,
   "metadata": {},
   "outputs": [],
   "source": [
    "def save_user_ratings(context: CallbackContext) -> None:\n",
    "    s: str = \"\"\n",
    "    for key in Subjects.getInstance().get_subjects():\n",
    "        s += (\n",
    "            context.user_data[\"username\"] + \",\" +\n",
    "            key + \",\" +\n",
    "            Subjects.getInstance().get_subjects()[key] + \",\" +\n",
    "            str(context.user_data[\"ratings\"][int(key)]) + \"\\n\"\n",
    "        )\n",
    "    with open(\"./Dati/users/\" + context.user_data[\"username\"] + \".csv\", \"w+\") as file:\n",
    "        file.write(s)"
   ]
  },
  {
   "cell_type": "markdown",
   "metadata": {},
   "source": [
    "La funzione **recommender_system** sfrutta le funzioni descritte precedentemente e ritorna una lista contenente le 5 materie consigliate per uno specifico studente."
   ]
  },
  {
   "cell_type": "code",
   "execution_count": null,
   "metadata": {},
   "outputs": [],
   "source": [
    "def recommender_system(context: CallbackContext) -> list:\n",
    "    Subjects.getInstance().get_data().loc[context.user_data[\"username\"]] = create_new_row(context)\n",
    "    cb = ContentBased(\"./Dati/subjects.csv\", data=Subjects.getInstance().get_data())\n",
    "    predict(cb, context)\n",
    "    save_user_ratings(context)\n",
    "    return (np.argsort(context.user_data[\"ratings\"]).tolist()[::-1])[0:5]"
   ]
  },
  {
   "cell_type": "markdown",
   "metadata": {},
   "source": [
    "### DMI_Subjects_Recommender_System.py"
   ]
  },
  {
   "cell_type": "markdown",
   "metadata": {},
   "source": [
    "Questo file contiene il **main** e sfrutta tutte le funzioni e le classi viste precedentemente per far funzionare il bot."
   ]
  },
  {
   "cell_type": "markdown",
   "metadata": {},
   "source": [
    "Il bot presenta due stati:\n",
    "\n",
    "- `FIRST`: lo stato in cui, subito dopo il comando `/start`, lo studente interagisce attivamente con il bot;\n",
    "- `SECOND`: lo stato in cui il bot analizza i voti dati dallo studente e restituisce le 5 materie."
   ]
  },
  {
   "cell_type": "markdown",
   "metadata": {},
   "source": [
    "## Come si usa?"
   ]
  },
  {
   "cell_type": "markdown",
   "metadata": {},
   "source": [
    "Per prima cosa bisogna avere **Python 3.8** installato nella propria macchina."
   ]
  },
  {
   "cell_type": "markdown",
   "metadata": {},
   "source": [
    "Successivamente, bisogna inserire il token del proprio bot all'interno del file **./config/settings.yaml.dist** e rinominare il file in `settings.yaml`."
   ]
  },
  {
   "cell_type": "markdown",
   "metadata": {},
   "source": [
    "A questo punto bisogna installare tutte le dipendenze e per farlo basta eseguire il seguente comando:\n",
    "\n",
    "```bash\n",
    "pip3 install -r ./requirements.txt\n",
    "```"
   ]
  },
  {
   "cell_type": "markdown",
   "metadata": {},
   "source": [
    "Per utilizzare lo scraper bisogna utilizzare il seguente comando:\n",
    "\n",
    "```bash\n",
    "python3 scraper/subjects.py -url <url>\n",
    "```\n",
    "\n",
    "- -url : indica l'url su cui si vuole fare scraping. "
   ]
  },
  {
   "cell_type": "markdown",
   "metadata": {},
   "source": [
    "Per utilizzare il bot e salvare i log in un file bisogna eseguire il seguente comando:\n",
    "\n",
    "```bash\n",
    "python3 DMI_Subjects_Recommender_System.py > log.txt\n",
    "```"
   ]
  },
  {
   "cell_type": "markdown",
   "metadata": {},
   "source": [
    "## Docker"
   ]
  },
  {
   "cell_type": "markdown",
   "metadata": {},
   "source": [
    "Nel caso in cui si hanno problemi nell'installare **Python 3.8** o le varie dipendenze, è possibile utilizzare **Docker**."
   ]
  },
  {
   "cell_type": "markdown",
   "metadata": {},
   "source": [
    "Per prima cosa bisogna inserire il token del proprio bot all'interno del file ./config/settings.yaml.dist e rinominare il file in settings.yaml."
   ]
  },
  {
   "cell_type": "markdown",
   "metadata": {},
   "source": [
    "A questo punto bisogna eseguire il seguente comando:\n",
    "\n",
    "```bash\n",
    "docker build --tag dmi_recommender_system .\n",
    "```"
   ]
  },
  {
   "cell_type": "markdown",
   "metadata": {},
   "source": [
    "Per utilizzare lo scraper bisogna utilizzare il seguente comando:\n",
    "\n",
    "```bash\n",
    "docker run --rm -it dmi_recommender_system scraper/subjects.py -url <url>\n",
    "```\n",
    "\n",
    "- -url : indica l'url su cui si vuole fare scraping. "
   ]
  },
  {
   "cell_type": "markdown",
   "metadata": {},
   "source": [
    "Per utilizzare il bot e salvare i log in un file bisogna eseguire il seguente comando:\n",
    "\n",
    "```bash\n",
    "docker run --rm -it dmi_recommender_system DMI_Subjects_Recommender_System.py > log.txt\n",
    "```"
   ]
  },
  {
   "cell_type": "markdown",
   "metadata": {},
   "source": [
    "## Esempio"
   ]
  },
  {
   "cell_type": "markdown",
   "metadata": {},
   "source": [
    "<img src=\"https://github.com/Gigi-G/Sistema-di-raccomandazione/blob/gh-pages/img/01.png\" width=\"90%\"><br>\n",
    "<img src=\"https://github.com/Gigi-G/Sistema-di-raccomandazione/blob/gh-pages/img/02.png\" width=\"90%\"><br>\n",
    "<img src=\"https://github.com/Gigi-G/Sistema-di-raccomandazione/blob/gh-pages/img/03.png\" width=\"90%\"><br>\n",
    "<img src=\"https://github.com/Gigi-G/Sistema-di-raccomandazione/blob/gh-pages/img/04.png\" width=\"90%\"><br>\n",
    "<img src=\"https://github.com/Gigi-G/Sistema-di-raccomandazione/blob/gh-pages/img/05.png\" width=\"90%\"><br>\n",
    "<img src=\"https://github.com/Gigi-G/Sistema-di-raccomandazione/blob/gh-pages/img/06.png\" width=\"90%\"><br>\n",
    "<img src=\"https://github.com/Gigi-G/Sistema-di-raccomandazione/blob/gh-pages/img/07.png\" width=\"90%\"><br>\n",
    "<img src=\"https://github.com/Gigi-G/Sistema-di-raccomandazione/blob/gh-pages/img/08.png\" width=\"90%\"><br>"
   ]
  },
  {
   "cell_type": "code",
   "execution_count": null,
   "metadata": {},
   "outputs": [],
   "source": []
  }
 ],
 "metadata": {
  "kernelspec": {
   "display_name": "Python 3",
   "language": "python",
   "name": "python3"
  },
  "language_info": {
   "codemirror_mode": {
    "name": "ipython",
    "version": 3
   },
   "file_extension": ".py",
   "mimetype": "text/x-python",
   "name": "python",
   "nbconvert_exporter": "python",
   "pygments_lexer": "ipython3",
   "version": "3.8.6"
  }
 },
 "nbformat": 4,
 "nbformat_minor": 4
}
